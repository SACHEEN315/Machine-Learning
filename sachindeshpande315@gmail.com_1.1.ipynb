{
 "cells": [
  {
   "cell_type": "markdown",
   "metadata": {},
   "source": [
    "# 1 Write a function that inputs a number and prints the multiplication table of that number"
   ]
  },
  {
   "cell_type": "code",
   "execution_count": 1,
   "metadata": {},
   "outputs": [
    {
     "name": "stdout",
     "output_type": "stream",
     "text": [
      "Enter the number to get the mutiplication table of that number \n",
      "4\n",
      "4 * 1 = 4\n",
      "4 * 2 = 8\n",
      "4 * 3 = 12\n",
      "4 * 4 = 16\n",
      "4 * 5 = 20\n",
      "4 * 6 = 24\n",
      "4 * 7 = 28\n",
      "4 * 8 = 32\n",
      "4 * 9 = 36\n",
      "4 * 10 = 40\n"
     ]
    }
   ],
   "source": [
    "print(\"Enter the number to get the mutiplication table of that number \")\n",
    "num = int(input())\n",
    "for i in range(1,11):\n",
    "    print(\"{} * {} = {}\".format(num,i,num*i))"
   ]
  },
  {
   "cell_type": "markdown",
   "metadata": {},
   "source": [
    "# 2 Write a program to print twin primes less than 1000. If two consecutive odd numbers are both prime then they are known as twin primes\n"
   ]
  },
  {
   "cell_type": "code",
   "execution_count": 2,
   "metadata": {},
   "outputs": [
    {
     "name": "stdout",
     "output_type": "stream",
     "text": [
      "Enter the number which is less then or equal to 1000\n",
      "50\n",
      "[2, 3, 5, 7, 11, 13, 17, 19, 23, 29, 31, 37, 41, 43, 47]\n",
      "[2, 3, 5, 7, 11, 13, 17, 19, 23, 29, 31, 37, 41, 43, 47]\n",
      "3 5\n",
      "5 7\n",
      "11 13\n",
      "17 19\n",
      "29 31\n",
      "41 43\n"
     ]
    }
   ],
   "source": [
    "print(\"Enter the number which is less then or equal to 1000\")\n",
    "num = int(input())\n",
    "getPrime = []\n",
    "#ignoring 1 as prime number are greater then 1 \n",
    "for i in range(2,num):\n",
    "    for j in range(2,i):\n",
    "        if (i % j == 0):\n",
    "            break\n",
    "    else:\n",
    "        getPrime.append(i)\n",
    "print(getPrime)\n",
    "\n",
    "#to get the twin prime numbers:\n",
    "twinPrimeCheck = getPrime \n",
    "#twinPrimeCheck.append(1)\n",
    "#twinPrimeCheck = [twinPrimeCheck[-1]] + twinPrimeCheck[:-1]\n",
    "#getPrime = twinPrimeCheck\n",
    "def toGetTwinPrimes(getPrimecheck):\n",
    "    print(getPrimecheck)\n",
    "    for i in getPrimecheck:\n",
    "#      if (i > 1):\n",
    "        if((i+2) in twinPrimeCheck):\n",
    "                print(i,i+2)\n",
    "\n",
    "toGetTwinPrimes(getPrime)"
   ]
  },
  {
   "cell_type": "markdown",
   "metadata": {},
   "source": [
    "# 3 Program to get the prime factors of the number"
   ]
  },
  {
   "cell_type": "code",
   "execution_count": 1,
   "metadata": {},
   "outputs": [
    {
     "name": "stdout",
     "output_type": "stream",
     "text": [
      "Enter the number\n",
      "56\n",
      "Prime Factors are None\n",
      "[2, 2, 2, 7]\n"
     ]
    }
   ],
   "source": [
    "#Program to get the prime factors of the number\n",
    "\n",
    "def prime(num):\n",
    "    if (num % 2 == 0):\n",
    "        getprimefac.append(2)\n",
    "        num = int(num/2)\n",
    "        return(prime(num))\n",
    "    elif(num % 3 == 0):\n",
    "        getprimefac.append(3)\n",
    "        num = int(num/3)\n",
    "        return(prime(num))\n",
    "    else:\n",
    "        return(getprimefac.append(num))\n",
    "print(\"Enter the number\")\n",
    "num1 = int(input())\n",
    "getprimefac=[]\n",
    "if (num1 == 0):\n",
    "    print(\"Factorial of 0 is 1\")\n",
    "elif(num1 < 0):\n",
    "    print(\"Please enter correct number\")\n",
    "else:\n",
    "    print(\"Prime Factors are\",prime(num1))\n",
    "if (1 in getprimefac):\n",
    "    getprimefac.remove(1)\n",
    "    print(getprimefac)\n",
    "else:\n",
    "    print(getprimefac)"
   ]
  },
  {
   "cell_type": "markdown",
   "metadata": {},
   "source": [
    "# 4 Write a program to implement these formulae of permutations and combinations."
   ]
  },
  {
   "cell_type": "code",
   "execution_count": 1,
   "metadata": {},
   "outputs": [
    {
     "name": "stdout",
     "output_type": "stream",
     "text": [
      "Enter n and r value to calculate permutation & combination3 5\n",
      "Permutation Value is 6\n",
      "Combination Value is 0\n"
     ]
    }
   ],
   "source": [
    "#Permutation and Combination\n",
    "fact=lambda val: 1 if val<=1 else fact(val-1)*val\n",
    "def calculatePermutation(n,r):\n",
    "    '''\n",
    "    Calculates premutation using give input <n> <r> by applying p(n, r) = n! / (n-r)! formula\n",
    "    '''\n",
    "    nFact=fact(n)\n",
    "    nMrFact=fact(n-r)\n",
    "    return int(nFact/nMrFact)\n",
    "def calculateCombination(n,r):\n",
    "    '''\n",
    "    Calculates combination using give input <n> <r> by applying c(n, r) = n! / (r!*(n-r)!) = p(n,r\n",
    "    ) / r! formula\n",
    "    '''\n",
    "    nFact=fact(n)\n",
    "    nMrFact=fact(n-r)\n",
    "    return int((nFact/nMrFact)/fact(r))\n",
    "inputValue=input(\"Enter n and r value to calculate permutation & combination\")\n",
    "ln=inputValue.split()\n",
    "print(\"Permutation Value is \"+str(calculatePermutation(int(ln[0]),int(ln[1]))))\n",
    "print(\"Combination Value is \"+str(calculateCombination(int(ln[0]),int(ln[1]))))\n"
   ]
  },
  {
   "cell_type": "markdown",
   "metadata": {},
   "source": [
    "# 5 decimal number to binary number"
   ]
  },
  {
   "cell_type": "code",
   "execution_count": 2,
   "metadata": {},
   "outputs": [
    {
     "name": "stdout",
     "output_type": "stream",
     "text": [
      "Enter the number to convert from decimal to binary\n",
      "7\n",
      "Binary equivalent of decimal number 7\n",
      "[1, 1, 1]\n"
     ]
    }
   ],
   "source": [
    "print(\"Enter the number to convert from decimal to binary\")\n",
    "noToBeConverted=int(input())\n",
    "getbin=[]\n",
    "def printbin(num):\n",
    "\tif(num not in [0,1]):\n",
    "\t\ttemp=num%2\n",
    "\t\tgetbin.append(temp)\n",
    "\t\ttemp1=num//2\n",
    "\t\treturn(printbin(temp1))\n",
    "\telse:\n",
    "\t\treturn(getbin.append(num))\n",
    "printbin(noToBeConverted)\n",
    "print(\"Binary equivalent of decimal number {}\".format(noToBeConverted))\n",
    "print(getbin)"
   ]
  },
  {
   "cell_type": "markdown",
   "metadata": {},
   "source": [
    "# 6 Armstrong number."
   ]
  },
  {
   "cell_type": "code",
   "execution_count": 3,
   "metadata": {},
   "outputs": [
    {
     "name": "stdout",
     "output_type": "stream",
     "text": [
      "Program to get the cubes of the number\n",
      "Enter the number to get sum of cubes of individual numbers:\n",
      "153\n",
      "Sum of cubes is: 153\n",
      "is Armstrong Number\n"
     ]
    }
   ],
   "source": [
    "'''Program function defination'''\n",
    "def cubesum(num):\n",
    "    temp = len(num)\n",
    "    temp1 = 0\n",
    "    temp2 = 0\n",
    "    for i in range(0,temp):\n",
    "        temp1 = int(num[i])\n",
    "        temp2 += temp1**3\n",
    "    else:\n",
    "        print(\"Sum of cubes is: {}\".format(temp2))\n",
    "        return(temp2)\n",
    "'''Function to print'''\n",
    "def PrintArmstrong():\n",
    "    print(\"is Armstrong Number\")\n",
    "'''Function to compare'''\n",
    "def isArmstrong(compNum):\n",
    "    if (compNum == getCubeNum):\n",
    "        PrintArmstrong()\n",
    "    \n",
    "print(\"Program to get the cubes of the number\")\n",
    "print(\"Enter the number to get sum of cubes of individual numbers:\")\n",
    "getCubeNum = int(input())\n",
    "compareNum = str(getCubeNum) \n",
    "isArmstrongNum=cubesum(compareNum)\n",
    "isArmstrong(isArmstrongNum)"
   ]
  },
  {
   "cell_type": "markdown",
   "metadata": {},
   "source": [
    "# 7 product of digits "
   ]
  },
  {
   "cell_type": "code",
   "execution_count": 4,
   "metadata": {},
   "outputs": [
    {
     "name": "stdout",
     "output_type": "stream",
     "text": [
      "Enter the number to get the product:\n",
      "3\n",
      "9\n"
     ]
    }
   ],
   "source": [
    "def getProduct(productNum):\n",
    "    productNum *= productNum\n",
    "    return productNum\n",
    "\n",
    "#Product of number\n",
    "print(\"Enter the number to get the product:\")\n",
    "num = int(input())\n",
    "print(getProduct(num))"
   ]
  },
  {
   "cell_type": "markdown",
   "metadata": {},
   "source": [
    "# 8 The number of times digits need to be multiplied to reach one digit is called the multiplicative persistance of n."
   ]
  },
  {
   "cell_type": "code",
   "execution_count": 6,
   "metadata": {},
   "outputs": [
    {
     "name": "stdout",
     "output_type": "stream",
     "text": [
      "Enter the number to get the product:\n",
      "86\n",
      "Product of enetred number is 7396:\n",
      "7396\n",
      "the multiplicative digital root of n is  : 2\n",
      "The number of times digits need to be multiplied to reach one digit is : 3\n"
     ]
    }
   ],
   "source": [
    "def getProduct(productNum):\n",
    "    productNum *= productNum\n",
    "    print(\"Product of enetred number is {}:\".format(productNum))\n",
    "    return productNum\n",
    "def MDR(getnum):\n",
    "    temp3 = str(getnum)\n",
    "    temp = len(temp3)\n",
    "    temp1 = int(temp)\n",
    "    temp2 = 1\n",
    "    if(temp1 > 1):\n",
    "        for i in range(0,temp):\n",
    "            temp2 = temp2 * int(temp3[i]) \n",
    "        else:\n",
    "            return(MDR(temp2))\n",
    "    else:\n",
    "        print(\"the multiplicative digital root of n is  :\",getnum)\n",
    "\n",
    "def MPersistence(prodnum,count):\n",
    "    temp3 = str(prodnum)\n",
    "    temp = len(temp3)\n",
    "    temp1 = int(temp)\n",
    "    temp2 = 1\n",
    "    if(temp1 > 1):\n",
    "        count += 1\n",
    "        for i in range(0,temp):\n",
    "            temp2 = temp2 * int(temp3[i]) \n",
    "        else:\n",
    "            return(MPersistence(temp2,count))\n",
    "    else:\n",
    "        print(\"The number of times digits need to be multiplied to reach one digit is :\" ,count)\n",
    "\n",
    "#Product of number\n",
    "print(\"Enter the number to get the product:\")\n",
    "num = int(input())\n",
    "count = \"global\"\n",
    "getnumber=getProduct(num)\n",
    "print(getnumber)\n",
    "MDR(getnumber)\n",
    "count = 0\n",
    "MPersistence(getnumber,count)"
   ]
  },
  {
   "cell_type": "markdown",
   "metadata": {},
   "source": [
    "# 9 finds the sum of proper divisors of a number."
   ]
  },
  {
   "cell_type": "code",
   "execution_count": 7,
   "metadata": {},
   "outputs": [
    {
     "name": "stdout",
     "output_type": "stream",
     "text": [
      "Enter the number to find the sum of proper divisors.\n",
      "36\n",
      "[1, 2, 3, 4, 6, 9, 12, 18]\n"
     ]
    }
   ],
   "source": [
    "def sumPdivisors(num):\n",
    "    for i in range(1,num-1):\n",
    "        if (num % i == 0):\n",
    "            getsumPdivisors.append(i)\n",
    "    else:\n",
    "        return getsumPdivisors\n",
    "    \n",
    "print(\"Enter the number to find the sum of proper divisors.\")\n",
    "num = int(input())\n",
    "getsumPdivisors=[]\n",
    "sumPdivisors(num)\n",
    "print(getsumPdivisors)"
   ]
  },
  {
   "cell_type": "markdown",
   "metadata": {},
   "source": [
    "# 10 sum of proper divisors of that number is equal to the number."
   ]
  },
  {
   "cell_type": "code",
   "execution_count": 1,
   "metadata": {},
   "outputs": [
    {
     "name": "stdout",
     "output_type": "stream",
     "text": [
      "Enter the lower number to find the sum of proper divisors.\n",
      "1\n",
      "Enter the upper number to find the sum of proper divisors.\n",
      "1000\n",
      "6\n",
      "28\n",
      "496\n"
     ]
    }
   ],
   "source": [
    "print(\"Enter the lower number to find the sum of proper divisors.\")\n",
    "lower = int(input())\n",
    "print(\"Enter the upper number to find the sum of proper divisors.\")\n",
    "upper = int(input())\n",
    "\n",
    "for i in range(lower,upper):\n",
    "    temp = 0\n",
    "    for j in range(1,i-1):      \n",
    "        if (i % j == 0):\n",
    "            temp += j\n",
    "            if (temp == i and j == (i/2)):\n",
    "                print(temp)"
   ]
  },
  {
   "cell_type": "markdown",
   "metadata": {},
   "source": [
    "#  11 amicable numbers"
   ]
  },
  {
   "cell_type": "code",
   "execution_count": 3,
   "metadata": {},
   "outputs": [
    {
     "name": "stdout",
     "output_type": "stream",
     "text": [
      "Enter first number : 220\n",
      "Enter second number : 284\n",
      "Numbers are Amicable\n"
     ]
    }
   ],
   "source": [
    "x=int(input('Enter first number : '))\n",
    "y=int(input('Enter second number : '))\n",
    "sum1=0\n",
    "sum2=0\n",
    "for i in range(1,x):\n",
    "    if x%i==0:\n",
    "        sum1+=i\n",
    "for j in range(1,y):\n",
    "    if y%j==0:\n",
    "        sum2+=j\n",
    "if(sum1==y and sum2==x):\n",
    "    print('Numbers are Amicable')\n",
    "else:\n",
    "    print('Number are not Amicable ')"
   ]
  },
  {
   "cell_type": "markdown",
   "metadata": {},
   "source": [
    "# 12 filter odd numbers in a list by using filter function"
   ]
  },
  {
   "cell_type": "code",
   "execution_count": 4,
   "metadata": {},
   "outputs": [
    {
     "name": "stdout",
     "output_type": "stream",
     "text": [
      "[1, 3, 5]\n"
     ]
    }
   ],
   "source": [
    "lst = [1,2,3,4,5]\n",
    "even_lst = list(filter(lambda x : (x % 2 != 0),lst))\n",
    "print(even_lst)"
   ]
  },
  {
   "cell_type": "markdown",
   "metadata": {},
   "source": [
    "# 13. Write a program which can map() to make a list whose elements are cube of elements in a given list"
   ]
  },
  {
   "cell_type": "code",
   "execution_count": 8,
   "metadata": {},
   "outputs": [
    {
     "name": "stdout",
     "output_type": "stream",
     "text": [
      "[1, 8, 27, 64, 125, 216, 343, 512, 729, 1000]\n"
     ]
    }
   ],
   "source": [
    "lst = [1,2,3,4,5,6,7,8,9,10]\n",
    "cubeNumbers = list(map(lambda x: x*x*x, lst))\n",
    "print(cubeNumbers)"
   ]
  },
  {
   "cell_type": "markdown",
   "metadata": {},
   "source": [
    "#  14 list whose elements are cube of even number in a given list"
   ]
  },
  {
   "cell_type": "code",
   "execution_count": 9,
   "metadata": {},
   "outputs": [
    {
     "name": "stdout",
     "output_type": "stream",
     "text": [
      "[8, 64, 216, 512, 1000]\n"
     ]
    }
   ],
   "source": [
    "lst = [1,2,3,4,5,6,7,8,9,10]\n",
    "cubeNumbers = list(map(lambda x: x*x*x, filter(lambda x: x%2==0, lst)))\n",
    "print (cubeNumbers)"
   ]
  }
 ],
 "metadata": {
  "kernelspec": {
   "display_name": "Python 3",
   "language": "python",
   "name": "python3"
  },
  "language_info": {
   "codemirror_mode": {
    "name": "ipython",
    "version": 3
   },
   "file_extension": ".py",
   "mimetype": "text/x-python",
   "name": "python",
   "nbconvert_exporter": "python",
   "pygments_lexer": "ipython3",
   "version": "3.6.5"
  }
 },
 "nbformat": 4,
 "nbformat_minor": 2
}
