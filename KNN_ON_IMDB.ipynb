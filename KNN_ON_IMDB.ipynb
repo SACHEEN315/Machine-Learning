{
 "cells": [
  {
   "cell_type": "markdown",
   "metadata": {},
   "source": [
    "* IMPORTED THE DATASET FOR IMDB\n",
    "* THE DATASET HAS TWO COLUMNS CLASS AND CLEAN_TEXT\n",
    "* THE DATASET HAS 746 ROWS AND 2 COLUMNS\n",
    "* IMPORTED WARNINGS TO AVIOD WARNINGS AFTER THE CODE EXECUTION"
   ]
  },
  {
   "cell_type": "code",
   "execution_count": 1,
   "metadata": {},
   "outputs": [
    {
     "name": "stdout",
     "output_type": "stream",
     "text": [
      "   class                                         clean_text\n",
      "0      0  slow moving aimless movie distressed drifting ...\n",
      "1      0  not sure lost flat characters audience nearly ...\n",
      "2      0  attempting artiness black white clever camera ...\n",
      "3      0                        little music anything speak\n",
      "4      1  best scene movie gerardo trying find song keep...\n"
     ]
    },
    {
     "data": {
      "text/plain": [
       "Index(['class', 'clean_text'], dtype='object')"
      ]
     },
     "execution_count": 1,
     "metadata": {},
     "output_type": "execute_result"
    }
   ],
   "source": [
    "%matplotlib inline\n",
    "import warnings\n",
    "warnings.filterwarnings(\"ignore\")\n",
    "    \n",
    "import pandas as pd\n",
    "import numpy as np\n",
    "\n",
    "df = pd.read_csv(\"imdb.txt\")\n",
    "print(df.head(5))\n",
    "df.columns"
   ]
  },
  {
   "cell_type": "code",
   "execution_count": 2,
   "metadata": {},
   "outputs": [
    {
     "data": {
      "text/plain": [
       "(746, 2)"
      ]
     },
     "execution_count": 2,
     "metadata": {},
     "output_type": "execute_result"
    }
   ],
   "source": [
    "df.shape"
   ]
  },
  {
   "cell_type": "code",
   "execution_count": 3,
   "metadata": {},
   "outputs": [],
   "source": [
    "Y = df[\"class\"].values\n",
    "X = df[\"clean_text\"].values"
   ]
  },
  {
   "cell_type": "code",
   "execution_count": 4,
   "metadata": {
    "scrolled": true
   },
   "outputs": [
    {
     "name": "stdout",
     "output_type": "stream",
     "text": [
      "(334,) (334,)\n",
      "(165,) (165,)\n",
      "(247,) (247,)\n"
     ]
    }
   ],
   "source": [
    "from sklearn.model_selection import train_test_split\n",
    "\n",
    "X_train,X_test,y_train,y_test = train_test_split(X,Y,test_size=0.33)\n",
    "X_train,X_cv,y_train,y_cv = train_test_split(X_train,y_train,test_size=0.33)\n",
    "\n",
    "# X_train, X_test, y_train, y_test = train_test_split(X, Y, test_size=0.33, shuffle=Flase)# this is for time series split\n",
    "#X_train, X_test, y_train, y_test = train_test_split(X, Y, test_size=0.33) # this is random splitting\n",
    "#X_train, X_cv, y_train, y_cv = train_test_split(X_train, y_train, test_size=0.33) # this is random splitting\n",
    "\n",
    "print(X_train.shape,y_train.shape)\n",
    "print(X_cv.shape,y_cv.shape)\n",
    "print(X_test.shape,y_test.shape)"
   ]
  },
  {
   "cell_type": "markdown",
   "metadata": {},
   "source": [
    "* print(y_train)\n",
    "* print(y_test)\n",
    "* print(X_cv)\n",
    "* print(y_cv)"
   ]
  },
  {
   "cell_type": "code",
   "execution_count": 54,
   "metadata": {},
   "outputs": [
    {
     "name": "stdout",
     "output_type": "stream",
     "text": [
      "{'accents': 5, 'absolutely': 3, 'abysmal': 4, 'directing': 350, 'seems': 1218, 'pretentious': 1063, 'got': 603, 'bored': 138, 'watching': 1532, 'jessice': 740, 'lange': 779, 'take': 1367, 'clothes': 239, 'really': 1109, 'hope': 657, 'team': 1375, 'behind': 111, 'movie': 912, 'makes': 853, 'movies': 913, 'continue': 268, 'kinda': 766, 'weird': 1541, 'style': 1339, 'film': 507, 'deserves': 339, 'strong': 1333, 'kudos': 774, 'taking': 1370, 'stand': 1303, 'exceptional': 455, 'acting': 13, 'mostly': 905, 'lesser': 802, 'known': 770, 'cast': 184, 'super': 1351, 'intelligent': 714, 'script': 1204, 'not': 946, 'insult': 711, 'audience': 80, 'easy': 394, 'way': 1535, 'comes': 245, 'white': 1547, 'racism': 1091, 'act': 11, 'glad': 593, 'gonna': 600, 'drift': 382, 'away': 84, 'earth': 392, 'far': 487, 'possible': 1053, 'readers': 1103, 'already': 45, 'seen': 1219, 'one': 966, 'miyazaki': 895, 'films': 508, 'still': 1318, 'top': 1423, 'form': 540, 'made': 847, 'another': 60, 'worthwhile': 1572, 'experience': 459, 'share': 1234, 'general': 574, 'loewenhielm': 825, 'exquisite': 465, 'joy': 749, 'partaking': 993, 'cailles': 162, 'en': 418, 'sarcophage': 1179, 'even': 441, 'though': 1398, 'wish': 1555, 'small': 1269, 'sample': 1177, 'savor': 1183, 'much': 915, 'dialogue': 344, 'music': 919, 'whole': 1548, 'shot': 1245, 'elaborately': 404, 'aesthetically': 26, 'like': 812, 'sculpture': 1208, 'disappointing': 355, 'achille': 9, 'philippa': 1013, 'beautifully': 106, 'sing': 1256, 'duet': 385, 'giovanni': 586, 'perfectly': 1005, 'describes': 336, 'situation': 1263, 'appreciate': 66, 'subtle': 1343, 'layers': 791, 'excellent': 452, 'give': 589, 'look': 827, 'second': 1214, 'appearance': 63, 'mickey': 883, 'mouse': 909, 'following': 531, 'silent': 1251, 'plane': 1025, 'crazy': 292, 'earlier': 390, 'year': 1584, 'probably': 1066, 'famous': 483, 'ground': 613, 'breaking': 147, 'painful': 987, 'instant': 708, 'classic': 231, 'great': 609, 'soundtrack': 1285, 'catchy': 187, 'song': 1279, 'ending': 421, 'credits': 297, 'definitely': 328, 'worth': 1570, 'checking': 210, 'squibs': 1301, 'awful': 86, 'sound': 1283, 'effects': 400, 'impressive': 694, 'special': 1290, 'recommend': 1114, 'enough': 428, 'call': 164, 'nut': 955, 'think': 1395, 'best': 120, 'ever': 443, 'character': 201, 'actors': 16, 'telly': 1383, 'savalas': 1181, 'peter': 1011, 'boyle': 144, 'hour': 664, 'minutes': 889, 'sheer': 1238, 'tedium': 1379, 'melodrama': 874, 'horrible': 661, 'mess': 880, 'sinking': 1260, 'feeling': 499, 'good': 601, 'lord': 830, 'thinking': 1396, 'lots': 835, 'holes': 653, 'bad': 94, 'two': 1455, 'tv': 1452, 'imagine': 686, 'every': 444, 'single': 1258, 'decisions': 325, 'wrong': 1581, 'atrocious': 77, 'beyond': 123, 'everything': 446, 'stinks': 1320, 'trouble': 1438, 'writing': 1579, 'make': 851, 'impossible': 691, 'establish': 436, 'things': 1394, 'watchable': 1530, 'story': 1325, 'theme': 1391, 'worse': 1568, 'incredibly': 697, 'weak': 1537, 'sub': 1340, 'plot': 1036, 'thrown': 1407, 'follows': 532, 'little': 821, 'band': 99, 'latter': 787, 'day': 315, 'mansonites': 858, 'go': 596, 'reporter': 1139, 'working': 1565, 'anniversary': 58, 'killings': 764, 'dumb': 387, 'pointless': 1041, 'complete': 250, 'waste': 1526, 'time': 1411, 'short': 1243, 'bother': 141, 'spoil': 1296, 'pretty': 1064, 'amazing': 49, 'scene': 1192, 'end': 420, 'indication': 700, 'writer': 1578, 'director': 352, 'ability': 1, 'meld': 873, 'highly': 646, 'volatile': 1516, 'temperaments': 1384, 'seamless': 1210, 'union': 1477, 'creativity': 296, 'result': 1143, 'powerhouse': 1057, 'achievement': 8, 'timely': 1412, 'perhaps': 1008, 'culture': 303, 'disturbing': 366, 'fascination': 488, 'celebrity': 191, 'distorted': 364, 'interpretations': 721, 'fame': 480, 'easily': 393, 'forgotten': 539, 'kevin': 761, 'spacey': 1288, 'verbal': 1502, 'tsunami': 1448, 'buddy': 156, 'ackerman': 10, 'totally': 1425, 'believable': 113, 'actor': 15, 'scripting': 1206, 'comedy': 244, 'unmatched': 1480, 'recent': 1112, 'years': 1585, 'characters': 203, 'interesting': 719, 'bit': 126, 'predictable': 1059, 'recommended': 1115, 'ages': 32, 'although': 47, 'younger': 1589, 'set': 1228, 'references': 1120, 'certainly': 195, 'galley': 563, 'particular': 994, 'also': 46, 'around': 68, 'pm': 1038, 'bought': 142, 'started': 1309, 'watch': 1529, 'fast': 489, 'forwarded': 544, 'remaining': 1128, 'see': 1215, 'anything': 62, 'left': 799, 'human': 672, 'brain': 145, 'either': 403, 'sucks': 1348, 'horrendously': 660, 'stupid': 1337, 'starts': 1310, 'no': 938, 'suspense': 1361, 'build': 158, 'slightest': 1265, 'captain': 172, 'howdy': 667, 'says': 1186, 'laughable': 788, 'plain': 1024, 'hell': 640, 'kind': 765, 'crap': 291, 'could': 286, 'drive': 384, 'semi': 1222, 'truck': 1439, 'linda': 816, 'cardellini': 177, 'thing': 1393, 'poised': 1042, 'dee': 326, 'snider': 1272, 'least': 795, 'scary': 1191, 'villains': 1511, 'write': 1577, 'damn': 308, 'sleep': 1264, 'throughout': 1405, 'pacing': 985, 'fx': 560, 'suck': 1346, 'basically': 103, 'tries': 1435, 'serious': 1226, 'sophisticated': 1281, 'thriller': 1403, 'horror': 663, 'flick': 525, 'fails': 475, 'miserably': 892, 'effective': 399, 'utterly': 1498, 'unoriginal': 1482, 'entire': 431, 'life': 809, 'piece': 1019, 'cinematic': 227, 'garbage': 567, 'captured': 173, 'celluloid': 192, 'avoid': 83, 'costs': 284, 'rate': 1097, 'funny': 558, 'fulci': 553, 'stayed': 1311, 'giallo': 584, 'supernatural': 1354, 'zombie': 1593, 'know': 769, 'happened': 626, 'season': 1213, 'five': 519, 'consistent': 263, 'thread': 1402, 'holding': 652, 'series': 1225, 'together': 1416, 'performances': 1007, 'leni': 801, 'parker': 991, 'anita': 57, 'laselva': 781, 'taelons': 1366, 'quiet': 1087, 'idealogical': 679, 'conflict': 259, 'dislike': 360, 'boring': 139, 'mainly': 849, 'slow': 1268, 'centers': 193, 'atmosphere': 76, 'puppets': 1080, 'cheesy': 214, 'puppet': 1079, 'master': 864, 'flicks': 526, 'lame': 778, 'never': 932, 'explains': 462, 'sinister': 1259, 'origins': 971, 'death': 318, 'scenes': 1194, 'previous': 1065, 'terrible': 1388, 'felt': 502, 'asleep': 72, 'first': 515, 'watched': 1531, 'insomniacs': 706, 'fact': 473, 'wonderful': 1560, 'heartwarming': 637, 'tale': 1371, 'people': 1004, 'chasing': 208, 'dreams': 379, 'part': 992, 'nurse': 954, 'betty': 122, 'unpredictability': 1483, 'sure': 1357, 'lost': 833, 'flat': 522, 'nearly': 925, 'half': 618, 'walked': 1519, 'enjoyed': 426, 'cinematography': 228, 'quite': 1088, 'entertaining': 430, 'follow': 530, 'carries': 179, 'well': 1542, 'several': 1231, 'moments': 900, 'need': 926, 'excruciatingly': 456, 'moving': 914, 'gives': 591, 'meaning': 869, 'phrase': 1016, 'history': 650, 'owed': 983, 'many': 859, 'disappointment': 356, 'kids': 763, 'chance': 197, 'open': 967, 'dialog': 343, 'race': 1089, 'relations': 1122, 'come': 243, 'last': 782, 'want': 1521, 'real': 1105, 'scare': 1189, 'rent': 1135, 'contains': 267, 'cheesiness': 213, 'unethical': 1472, 'joke': 747, 'normally': 943, 'rated': 1098, 'chemistry': 215, 'ben': 116, 'affleck': 28, 'sandra': 1178, 'bullock': 159, 'understand': 1467, 'would': 1574, 'consider': 262, 'leaving': 798, 'wife': 1550, 'chick': 216, 'supposedly': 1356, 'knocked': 768, 'saw': 1184, 'thought': 1399, 'lead': 793, 'man': 856, 'charisma': 204, 'free': 548, 'guess': 614, 'nobody': 940, 'network': 931, 'aired': 37, 'dribble': 381, 'putting': 1083, 'different': 346, 'terrific': 1389, 'production': 1073, 'values': 1499, 'faultless': 492, 'photography': 1015, 'composition': 253, 'editing': 397, 'casting': 186, 'underappreciated': 1463, 'brian': 148, 'keith': 760, 'playing': 1031, 'bully': 160, 'teddy': 1378, 'vivid': 1514, 'explain': 461, 'emotions': 413, 'subjects': 1342, 'better': 121, 'jay': 737, 'adams': 20, 'unfortunate': 1474, 'subject': 1341, 'talk': 1372, 'old': 964, 'neil': 929, 'young': 1588, 'played': 1028, 'evokes': 449, 'trumbull': 1442, 'love': 836, 'lucy': 842, 'anyone': 61, 'likes': 814, 'wholesome': 1549, 'family': 482, 'exactly': 450, 'fun': 555, 'fantastic': 486, 'stories': 1324, 'seamlessly': 1211, 'woven': 1575, 'dogs': 369, 'splendid': 1295, 'must': 920, 'view': 1506, 'four': 546, 'get': 582, 'hilarious': 647, 'natural': 924, 'professionals': 1074, 'drago': 375, 'debbie': 320, 'rochon': 1156, 'contributory': 273, 'former': 542, 'chimp': 221, 'camera': 167, 'work': 1564, 'barely': 101, 'tolerable': 1418, 'cheap': 209, 'gone': 599, 'disliked': 361, 'standout': 1304, 'lifetime': 810, 'air': 36, 'knows': 771, 'store': 1323, 'sells': 1221, 'let': 803, 'clever': 234, 'crowd': 300, 'pleaser': 1034, 'ranks': 1095, 'among': 51, 'aimless': 35, 'distressed': 365, 'drifting': 383, 'dimensional': 348, 'guys': 616, 'especially': 434, 'wind': 1554, 'lion': 819, 'written': 1580, 'superbly': 1353, 'acted': 12, 'football': 534, 'perplexing': 1010, 'score': 1199, 'excellently': 453, 'produced': 1071, 'sci': 1198, 'fi': 506, 'producers': 1072, 'scot': 1200, 'vandiver': 1500, 'labute': 776, 'uses': 1494, 'brutal': 155, 'violence': 1512, 'seperate': 1223, 'reality': 1107, 'along': 44, 'touching': 1427, 'drama': 376, 'tell': 1382, 'going': 598, 'happen': 625, 'next': 935, 'hbo': 631, 'loved': 837, 'truly': 1441, 'art': 69, 'actually': 19, 'lot': 834, 'looks': 829, 'rough': 1163, 'draft': 374, 'shooting': 1242, 'began': 109, 'finished': 514, 'completed': 251, 'describe': 335, 'whatsoever': 1544, 'keep': 758, 'place': 1023, 'long': 826, 'fear': 495, 'losing': 832, 'child': 217, 'show': 1247, 'proudly': 1075, 'say': 1185, 'big': 125, 'classical': 232, 'wb': 1536, 'cartoons': 181, 'convoluted': 277, 'convince': 275, 'questioning': 1085, 'glance': 594, 'nice': 936, 'relaxing': 1124, 'late': 784, 'night': 937, 'viewing': 1508, 'sometimes': 1277, 'embarrassing': 408, 'animation': 56, 'dominated': 371, 'disney': 362, 'pixar': 1022, 'cgi': 196, 'masterpieces': 865, 'refreshing': 1121, 'comforting': 246, 'relying': 1127, 'traditional': 1432, 'hand': 621, 'drawn': 378, 'charming': 207, 'enchanting': 419, 'debated': 319, 'whether': 1545, 'sack': 1173, 'trumpeter': 1443, 'falsely': 479, 'accused': 7, 'murder': 917, 'pure': 1081, 'gerardo': 581, 'trying': 1446, 'find': 512, 'keeps': 759, 'running': 1169, 'head': 632, 'rating': 1100, 'grade': 606, 'note': 949, 'mother': 906, 'pull': 1078, 'daughter': 313, 'starring': 1307, 'jaclyn': 732, 'smith': 1271, 'god': 597, 'came': 166, 'ago': 33, 'technically': 1377, 'solid': 1274, 'riz': 1153, 'ortolani': 972, 'particularly': 995, 'recurring': 1117, 'unaccompanied': 1458, 'female': 503, 'vocal': 1515, 'sounds': 1284, 'coming': 247, 'distant': 363, 'hill': 648, 'rickman': 1149, 'stowe': 1327, 'play': 1027, 'roles': 1159, 'hilt': 649, 'childrens': 220, 'book': 135, 'maybe': 868, 'subversive': 1344, 'tract': 1431, 'painfully': 988, 'dreary': 380, 'waster': 1528, 'sad': 1174, 'main': 848, 'players': 1030, 'mesmerising': 879, 'however': 669, 'type': 1456, 'loads': 823, 'understatement': 1470, 'black': 128, 'remember': 1131, 'become': 108, 'actress': 17, 'identifies': 680, 'cardboard': 176, 'cutouts': 306, 'stereotypes': 1314, 'predictably': 1060, 'reverse': 1146, 'kris': 772, 'kristoffersen': 773, 'difference': 345, 'emilio': 410, 'estevez': 438, 'directorial': 353, 'debut': 321, 'interplay': 720, 'development': 342, 'surrounding': 1360, 'plays': 1032, 'suggest': 1349, 'eye': 468, 'decent': 323, 'action': 14, 'location': 824, 'balance': 97, 'sloppy': 1267, 'pleased': 1033, 'modern': 896, 'genius': 577, 'letting': 805, 'passion': 998, 'us': 1490, 'plus': 1037, 'rather': 1099, 'modest': 897, 'budget': 157, 'job': 743, 'irons': 726, 'ten': 1385, 'thoughts': 1400, 'understated': 1469, 'leaves': 797, 'lasting': 783, 'impression': 693, 'yet': 1587, 'hear': 633, 'speak': 1289, 'tons': 1422, 'something': 1276, 'granted': 607, 'huge': 670, 'recently': 1113, 'fox': 547, 'channel': 200, 'disappointed': 354, 'angel': 54, 'beautiful': 105, 'scamp': 1188, 'adorable': 24, 'yelps': 1586, 'hes': 645, 'scared': 1190, 'funniest': 557, 'parts': 996, 'caught': 188, 'curtain': 304, 'singing': 1257, 'ive': 731, 'edition': 398, 'june': 754, 'cover': 289, 'underneath': 1466, 'lid': 807, 'turned': 1451, 'list': 820, 'liked': 813, 'unfunny': 1476, 'pathetic': 1001, 'unrealistic': 1485, 'utter': 1497, 'torture': 1424, 'looked': 828, 'times': 1413, 'sweet': 1362, 'continuously': 270, 'bertolucci': 119, 'relationships': 1123, 'convincing': 276, 'narrative': 921, 'engaging': 423, 'final': 509, 'word': 1562, 'applauded': 64, 'conclusion': 256, 'believe': 114, 'outside': 977, 'south': 1286, 'africa': 29, 'past': 999, 'attempted': 79, 'truth': 1444, 'reconciliation': 1116, 'process': 1070, 'robert': 1155, 'ryans': 1172, 'portrayed': 1050, 'someone': 1275, 'father': 491, 'schizophrenic': 1195, 'murdered': 918, 'affected': 27, 'world': 1567, 'war': 1523, 'pitch': 1021, 'done': 372, 'back': 91, 'stranger': 1329, 'performance': 1006, 'jennifer': 738, 'rubin': 1167, 'jamie': 734, 'harris': 627, 'changes': 199, 'nervous': 930, 'starlet': 1306, 'beginning': 110, 'strange': 1328, 'events': 442, 'cool': 278, 'star': 1305, 'italian': 730, 'thrillers': 1404, 'early': 391, 'pair': 990, 'fishnet': 517, 'stockings': 1321, 'direction': 351, 'astonishingly': 75, 'ham': 620, 'fisted': 518, 'monica': 902, 'bellucci': 115, 'seriously': 1227, 'feel': 498, 'cinema': 226, 'lovely': 838, 'hitchcock': 651, 'shenanigans': 1240, 'spy': 1300, 'kidnapped': 762, 'nasty': 922, 'church': 225, 'foreign': 537, 'random': 1093, 'taxidermists': 1374, 'indescribably': 699, 'annoying': 59, 'idiotic': 683, 'northern': 944, 'humour': 674, 'positive': 1052, 'community': 249, 'represents': 1140, 'right': 1150, 'case': 182, 'delivers': 332, 'almost': 43, 'face': 470, 'new': 934, 'memorable': 876, 'found': 545, 'forgetting': 538, 'otherwise': 975, 'stinker': 1319, 'smells': 1270, 'direct': 349, 'video': 1505, 'release': 1125, 'yeah': 1583, 'sucked': 1347, 'fans': 485, 'genre': 578, 'heaven': 638, 'worst': 1569, 'ceases': 190, 'interest': 717, 'simply': 1253, 'alert': 39, 'try': 1445, 'attempt': 78, 'decipher': 324, 'meanings': 870, 'nevertheless': 933, 'stable': 1302, 'duris': 388, 'fine': 513, 'mind': 886, 'bendingly': 117, 'created': 293, 'helps': 642, 'idiot': 682, 'savant': 1182, 'sister': 1261, 'clear': 233, 'range': 1094, 'tickets': 1410, 'cost': 283, 'dollars': 370, 'mad': 846, 'paid': 986, 'spoilers': 1299, 'hopefully': 658, 'james': 733, 'cox': 290, 'turn': 1450, 'feature': 496, 'length': 800, 'win': 1553, 'tired': 1414, 'clich': 235, 'lazy': 792, 'thick': 1392, 'possibly': 1054, 'creative': 295, 'works': 1566, 'footage': 533, 'wasted': 1527, 'mediocre': 872, 'elderly': 405, 'awkwardly': 87, 'babbling': 89, 'overwrought': 982, 'pseudo': 1076, 'satanic': 1180, 'gibberish': 585, 'corny': 281, 'teen': 1380, 'goth': 604, 'blush': 131, 'always': 48, 'olde': 965, 'english': 424, 'latin': 786, 'may': 867, 'words': 1563, 'cant': 171, 'romantic': 1161, 'junkyard': 755, 'laughed': 789, 'buy': 161, 'features': 497, 'advise': 25, 'imdb': 687, 'ratings': 1101, 'low': 839, 'negative': 928, 'numbers': 953, 'cases': 183, 'continuity': 269, 'errors': 433, 'user': 1493, 'commented': 248, 'cars': 180, 'garage': 566, 'joe': 744, 'glasses': 595, 'facial': 472, 'hair': 617, 'configuration': 258, 'seemed': 1217, 'change': 198, 'popular': 1048, 'house': 665, 'reactions': 1102, 'plenty': 1035, 'laughs': 790, 'visual': 1513, 'line': 817, 'poler': 1043, 'bear': 104, 'cute': 305, 'question': 1084, 'fort': 543, 'steele': 1312, 'ask': 71, 'zillion': 1592, 'fan': 484, 'nothing': 951, 'became': 107, 'emperor': 414, 'spend': 1291, 'childhood': 218, 'mature': 866, 'age': 30, 'heard': 634, 'except': 454, 'cole': 241, 'unbelievable': 1459, 'depicts': 334, 'sea': 1209, 'vessel': 1503, 'taken': 1368, 'mighty': 885, 'frost': 552, 'rest': 1142, 'lacks': 777, 'charm': 206, 'emptiness': 416, 'empty': 417, 'trash': 1434, 'released': 1126, 'etc': 439, 'emily': 411, 'watson': 1534, 'quick': 1086, 'unfortunately': 1475, 'inexperience': 704, 'meant': 871, 'passed': 997, 'dramatic': 377, 'tension': 1386, 'judith': 752, 'light': 811, 'favorite': 494, 'actresses': 18, 'superb': 1352, 'manna': 857, 'unpredictable': 1484, 'seeing': 1216, 'turkey': 1449, 'straw': 1330, 'imaginative': 685, 'occasionally': 959, 'cruel': 301, 'without': 1557, 'merit': 878, 'level': 806, 'akin': 38, 'today': 1415, 'effort': 401, 'messages': 881, 'choked': 222, 'vomit': 1518, 'worthless': 1571, 'allowing': 42, 'poor': 1046, 'format': 541, 'mini': 887, 'baaaaaad': 88, 'true': 1440, 'shakespear': 1233, 'amust': 53, 'unique': 1478, 'making': 854, 'century': 194, 'road': 1154, 'silly': 1252, 'noir': 941, 'implausible': 690, 'unmitigated': 1481, 'bore': 137, 'setting': 1230, 'mirrormask': 890, 'unsatisfactory': 1486, 'horrified': 662, 'sympathetic': 1364, 'towards': 1429, 'overall': 979, 'delight': 329, 'fleshed': 524, 'surprisingly': 1359, 'grimes': 612, 'blake': 130, 'deliver': 330, 'sharply': 1236, 'scripted': 1205, 'lines': 818, 'amount': 52, 'deadpan': 317, 'tongue': 1421, 'cheek': 211, 'realistic': 1106, 'mistakes': 894, 'moment': 899, 'humorous': 673, 'riot': 1151, 'hugo': 671, 'weaving': 1539, 'sex': 1232, 'obsessed': 958, 'gay': 571, 'estate': 437, 'salesman': 1176, 'clients': 236, 'houses': 666, 'trysts': 1447, 'flaming': 521, 'darren': 312, 'tom': 1419, 'hollander': 654, 'casted': 185, 'role': 1158, 'ready': 1104, 'leave': 796, 'theater': 1390, 'wanting': 1522, 'dance': 309, 'stars': 1308, 'fat': 490, 'computer': 255, 'geek': 572, 'bible': 124, 'thumper': 1408, 'ass': 74, 'girl': 587, 'minute': 888, 'storyline': 1326, 'agree': 34, 'jessica': 739, 'wilkinson': 1551, 'broke': 152, 'heart': 635, 'everyone': 445, 'else': 406, 'judging': 751, 'fumbling': 554, 'hankies': 624, 'hands': 623, 'faces': 471, 'males': 855, 'females': 504, 'alike': 41, 'delivering': 331, 'sincere': 1255, 'inspiring': 707, 'gets': 583, 'dvd': 389, 'rocked': 1157, 'social': 1273, 'physical': 1017, 'outlets': 976, 'im': 684, 'rpg': 1165, 'games': 565, 'disgrace': 359, 'self': 1220, 'respecting': 1141, 'rpger': 1166, 'feelings': 500, 'gabriel': 561, 'discomfort': 357, 'intangibles': 712, 'leap': 794, 'within': 1556, 'viewer': 1507, 'grasp': 608, 'huston': 676, 'portrayal': 1049, 'racial': 1090, 'jokes': 748, 'offend': 961, 'applause': 65, 'given': 590, 'prelude': 1061, 'shows': 1248, 'sibling': 1249, 'bond': 132, 'course': 287, 'blah': 129, 'sequel': 1224, 'contained': 266, 'opened': 968, 'eyes': 469, 'indeed': 698, 'unconditional': 1460, 'condescends': 257, 'genuine': 579, 'hearts': 636, 'problems': 1068, 'youtube': 1590, 'veteran': 1504, 'nostalgia': 945, 'trip': 1437, 'remake': 1129, 'friends': 550, 'wedding': 1540, 'gave': 570, 'problem': 1067, 'review': 1147, 'overdue': 980, 'since': 1254, 'sisters': 1262, 'greatest': 610, 'lilt': 815, 'step': 1313, 'originality': 970, 'freshness': 549, 'spent': 1292, 'offer': 962, 'told': 1417, 'largely': 780, 'son': 1278, 'member': 875, 'identify': 681, 'sean': 1212, 'connery': 260, 'noble': 939, 'brigand': 150, 'candace': 169, 'bergen': 118, 'feisty': 501, 'heroine': 644, 'john': 745, 'wily': 1552, 'hay': 630, 'steve': 1315, 'kanaly': 757, 'spiffy': 1294, 'radiant': 1092, 'ruthless': 1170, 'lieutenant': 808, 'roosevelt': 1162, 'stick': 1317, 'paced': 984, 'courtroom': 288, 'documentaries': 367, 'handles': 622, 'tough': 1428, 'issues': 729, 'dignity': 347, 'grace': 605, 'shocking': 1241, 'spoiler': 1298, 'jimmy': 742, 'stewart': 1316, 'hero': 643, 'rips': 1152, 'climax': 237, 'embassy': 409, 'function': 556, 'brooding': 153, 'menace': 877, 'original': 969, 'deeply': 327, 'impressed': 692, 'ultra': 1457, 'player': 1029, 'halfway': 619, 'embarrassed': 407, 'howell': 668, 'incredible': 696, 'captures': 174, 'essence': 435, 'children': 219, 'put': 1082, 'screen': 1201, 'example': 451, 'hollywood': 656, 'used': 1492, 'exploit': 463, 'women': 1558, 'financial': 511, 'gain': 562, 'cutting': 307, 'edge': 396, 'european': 440, 'throwback': 1406, 'student': 1334, 'experiences': 460, 'living': 822, 'abroad': 2, 'interacting': 716, 'nationalities': 923, 'circumstances': 229, 'slightly': 1266, 'usual': 1496, 'paul': 1002, 'schrader': 1197, 'mishima': 893, 'complex': 252, 'volcano': 1517, 'los': 831, 'angeles': 55, 'nonsense': 942, 'explosion': 464, 'gas': 568, 'tanks': 1373, 'redeeming': 1119, 'horrendous': 659, 'sets': 1229, 'thunderbirds': 1409, 'episode': 432, 'shelf': 1239, 'wondered': 1559, 'oscar': 973, 'shortlist': 1244, 'added': 22, 'bonuses': 133, 'cheerless': 212, 'heist': 639, 'characterisation': 202, 'underbite': 1464, 'stoic': 1322, 'emoting': 412, 'chow': 223, 'yun': 1591, 'tomorrow': 1420, 'abandoned': 0, 'factory': 474, 'poorly': 1047, 'executed': 457, 'flying': 527, 'judo': 753, 'rolls': 1160, 'la': 775, 'woo': 1561, 'noteworthy': 950, 'including': 695, 'views': 1509, 'barcelona': 100, 'famed': 481, 'gaudi': 569, 'towers': 1430, 'scenery': 1193, 'daughters': 314, 'paint': 989, 'photograph': 1014, 'telephone': 1381, 'repair': 1136, 'nuts': 956, 'bitchy': 127, 'boss': 140, 'lower': 840, 'uniqueness': 1479, 'idea': 678, 'hypocrisy': 677, 'unfolds': 1473, 'jutland': 756, 'use': 1491, 'period': 1009, 'instruments': 710, 'touch': 1426, 'intelligence': 713, 'money': 901, 'apt': 67, 'awesome': 85, 'ebay': 395, 'redeemed': 1118, 'fodder': 529, 'martin': 863, 'middle': 884, 'aged': 31, 'upper': 1488, 'class': 230, 'uptight': 1489, 'guy': 615, 'christmas': 224, 'point': 1040, 'proceedings': 1069, 'remotely': 1133, 'america': 50, 'notable': 947, 'bailey': 96, 'crisp': 299, 'colored': 242, 'design': 340, 'costumes': 285, 'eiko': 402, 'ishioka': 728, 'went': 1543, 'coppola': 279, 'dracula': 373, 'received': 1111, 'deserved': 338, 'rare': 1096, 'maker': 852, 'takes': 1369, 'worthy': 1573, 'moral': 904, 'care': 178, 'fall': 477, 'trap': 1433, 'overly': 981, 'syrupy': 1365, 'indulgent': 703, 'warmth': 1524, 'generates': 576, 'contrast': 272, 'austere': 81, 'backdrop': 92, 'rendering': 1134, 'imperial': 689, 'frightening': 551, 'comprehensible': 254, 'miserable': 891, 'hollow': 655, 'campy': 168, 'sort': 1282, 'girlfriend': 588, 'hated': 629, 'said': 1175, 'remarkable': 1130, 'wow': 1576, 'entertained': 429, 'motion': 907, 'needlessly': 927, 'repeats': 1138, 'backed': 93, 'reason': 1110, 'vehicles': 1501, 'corn': 280, 'flakes': 520, 'box': 143, 'bordered': 136, 'stupidity': 1338, 'macbeth': 844, 'jason': 736, 'moved': 911, 'tears': 1376, 'monolog': 903, 'brief': 149, 'candle': 170, 'sphere': 1293, 'decay': 322, 'dark': 311, 'forces': 536, 'interested': 718, 'poetry': 1039, 'politics': 1045, 'japanese': 735, 'involved': 723, 'return': 1144, 'school': 1196, 'pile': 1020, 'round': 1164, 'surely': 1358, 'coherent': 240, 'screenwriter': 1203, 'force': 535, 'obliged': 957, 'sum': 1350, 'songs': 1280, 'muppets': 916, 'instead': 709, 'fest': 505, 'whiny': 1546, 'spoiled': 1297, 'brat': 146, 'babysitting': 90, 'enjoyment': 427, 'run': 1168, 'dangerous': 310, 'constantine': 265, 'intensity': 715, 'understanding': 1468, 'underlying': 1465, 'psychological': 1077, 'motivations': 908, 'reminded': 1132, 'game': 564, 'evinced': 448, 'faithful': 476, 'adaptation': 21, 'joyce': 750, 'acclaimed': 6, 'novella': 952, 'dead': 316, 'finally': 510, 'realized': 1108, 'closed': 238, 'brilliance': 151, 'reviewer': 1148, 'called': 165, 'success': 1345, 'depends': 333, 'sydney': 1363, 'greenstreet': 611, 'alexander': 40, 'yardley': 1582, 'southern': 1287, 'california': 163, 'desert': 337, 'using': 1495, 'patent': 1000, 'faux': 493, 'documentary': 368, 'watkins': 1533, 'creates': 294, 'marbles': 860, 'unconvincing': 1461, 'stunning': 1336, 'iq': 724, 'mollusk': 898, 'jim': 741, 'connor': 261, 'energetic': 422, 'george': 580, 'dull': 386, 'future': 559, 'goremeister': 602, 'lucio': 841, 'addition': 23, 'mark': 861, 'cult': 302, 'evil': 447, 'phantasm': 1012, 'discovering': 358, 'falling': 478, 'gem': 573, 'terms': 1387, 'screenplay': 1202, 'post': 1055, 'aspect': 73, 'potted': 1056, 'plants': 1026, 'supposed': 1355, 'twist': 1454, 'shed': 1237, 'villain': 1510, 'michael': 882, 'ironside': 727, 'precisely': 1058, 'giving': 592, 'hate': 628, 'basic': 102, 'premise': 1062, 'sidelined': 1250, 'inexplicable': 705, 'focus': 528, 'crew': 298, 'brother': 154, 'ryan': 1171, 'portraying': 1051, 'imitation': 688, 'individual': 701, 'card': 175, 'aside': 70, 'lets': 804, 'major': 850, 'flaw': 523, 'destroy': 341, 'latifa': 785, 'politically': 1044, 'correct': 282, 'generally': 575, 'weaker': 1538, 'average': 82, 'fish': 516, 'badly': 95, 'underwater': 1471, 'shots': 1246, 'repeated': 1137, 'thousand': 1401, 'joins': 746, 'revenge': 1145, 'boogeyman': 134, 'zombiez': 1594, 'hellish': 641, 'trinity': 1436, 'move': 910, 'enjoyable': 425, 'uplifting': 1487, 'oh': 963, 'cause': 189, 'ireland': 725, 'sharing': 1235, 'others': 974, 'knew': 767, 'string': 1332, 'expect': 458, 'notch': 948, 'washing': 1525, 'machine': 845, 'twirling': 1453, 'hurt': 675, 'scale': 1187, 'balanced': 98, 'overacting': 978, 'underacting': 1462, 'peculiarity': 1003, 'picture': 1018, 'marred': 862, 'constant': 264, 'studio': 1335, 'indoor': 702, 'exteriors': 466, 'thoroughly': 1397, 'contract': 271, 'control': 274, 'scripts': 1207, 'wall': 1520, 'street': 1331, 'charlie': 205, 'empowerment': 415, 'bela': 112, 'lugosi': 843, 'extraneous': 467, 'intoning': 722, 'odd': 960}\n",
      "['abandoned', 'ability', 'abroad', 'absolutely', 'abysmal', 'accents', 'acclaimed', 'accused', 'achievement', 'achille', 'ackerman', 'act', 'acted', 'acting', 'action', 'actor', 'actors', 'actress', 'actresses', 'actually', 'adams', 'adaptation', 'added', 'addition', 'adorable', 'advise', 'aesthetically', 'affected', 'affleck', 'africa', 'age', 'aged', 'ages', 'ago', 'agree', 'aimless', 'air', 'aired', 'akin', 'alert', 'alexander', 'alike', 'allowing', 'almost', 'along', 'already', 'also', 'although', 'always', 'amazing', 'america', 'among', 'amount', 'amust', 'angel', 'angeles', 'animation', 'anita', 'anniversary', 'annoying', 'another', 'anyone', 'anything', 'appearance', 'applauded', 'applause', 'appreciate', 'apt', 'around', 'art', 'aside', 'ask', 'asleep', 'aspect', 'ass', 'astonishingly', 'atmosphere', 'atrocious', 'attempt', 'attempted', 'audience', 'austere', 'average', 'avoid', 'away', 'awesome', 'awful', 'awkwardly', 'baaaaaad', 'babbling', 'babysitting', 'back', 'backdrop', 'backed', 'bad', 'badly', 'bailey', 'balance', 'balanced', 'band', 'barcelona', 'barely', 'basic', 'basically', 'bear', 'beautiful', 'beautifully', 'became', 'become', 'began', 'beginning', 'behind', 'bela', 'believable', 'believe', 'bellucci', 'ben', 'bendingly', 'bergen', 'bertolucci', 'best', 'better', 'betty', 'beyond', 'bible', 'big', 'bit', 'bitchy', 'black', 'blah', 'blake', 'blush', 'bond', 'bonuses', 'boogeyman', 'book', 'bordered', 'bore', 'bored', 'boring', 'boss', 'bother', 'bought', 'box', 'boyle', 'brain', 'brat', 'breaking', 'brian', 'brief', 'brigand', 'brilliance', 'broke', 'brooding', 'brother', 'brutal', 'buddy', 'budget', 'build', 'bullock', 'bully', 'buy', 'cailles', 'california', 'call', 'called', 'came', 'camera', 'campy', 'candace', 'candle', 'cant', 'captain', 'captured', 'captures', 'card', 'cardboard', 'cardellini', 'care', 'carries', 'cars', 'cartoons', 'case', 'cases', 'cast', 'casted', 'casting', 'catchy', 'caught', 'cause', 'ceases', 'celebrity', 'celluloid', 'centers', 'century', 'certainly', 'cgi', 'chance', 'change', 'changes', 'channel', 'character', 'characterisation', 'characters', 'charisma', 'charlie', 'charm', 'charming', 'chasing', 'cheap', 'checking', 'cheek', 'cheerless', 'cheesiness', 'cheesy', 'chemistry', 'chick', 'child', 'childhood', 'children', 'childrens', 'chimp', 'choked', 'chow', 'christmas', 'church', 'cinema', 'cinematic', 'cinematography', 'circumstances', 'class', 'classic', 'classical', 'clear', 'clever', 'clich', 'clients', 'climax', 'closed', 'clothes', 'coherent', 'cole', 'colored', 'come', 'comedy', 'comes', 'comforting', 'coming', 'commented', 'community', 'complete', 'completed', 'complex', 'composition', 'comprehensible', 'computer', 'conclusion', 'condescends', 'configuration', 'conflict', 'connery', 'connor', 'consider', 'consistent', 'constant', 'constantine', 'contained', 'contains', 'continue', 'continuity', 'continuously', 'contract', 'contrast', 'contributory', 'control', 'convince', 'convincing', 'convoluted', 'cool', 'coppola', 'corn', 'corny', 'correct', 'cost', 'costs', 'costumes', 'could', 'course', 'courtroom', 'cover', 'cox', 'crap', 'crazy', 'created', 'creates', 'creative', 'creativity', 'credits', 'crew', 'crisp', 'crowd', 'cruel', 'cult', 'culture', 'curtain', 'cute', 'cutouts', 'cutting', 'damn', 'dance', 'dangerous', 'dark', 'darren', 'daughter', 'daughters', 'day', 'dead', 'deadpan', 'death', 'debated', 'debbie', 'debut', 'decay', 'decent', 'decipher', 'decisions', 'dee', 'deeply', 'definitely', 'delight', 'deliver', 'delivering', 'delivers', 'depends', 'depicts', 'describe', 'describes', 'desert', 'deserved', 'deserves', 'design', 'destroy', 'development', 'dialog', 'dialogue', 'difference', 'different', 'dignity', 'dimensional', 'direct', 'directing', 'direction', 'director', 'directorial', 'disappointed', 'disappointing', 'disappointment', 'discomfort', 'discovering', 'disgrace', 'dislike', 'disliked', 'disney', 'distant', 'distorted', 'distressed', 'disturbing', 'documentaries', 'documentary', 'dogs', 'dollars', 'dominated', 'done', 'dracula', 'draft', 'drago', 'drama', 'dramatic', 'drawn', 'dreams', 'dreary', 'dribble', 'drift', 'drifting', 'drive', 'duet', 'dull', 'dumb', 'duris', 'dvd', 'earlier', 'early', 'earth', 'easily', 'easy', 'ebay', 'edge', 'editing', 'edition', 'effective', 'effects', 'effort', 'eiko', 'either', 'elaborately', 'elderly', 'else', 'embarrassed', 'embarrassing', 'embassy', 'emilio', 'emily', 'emoting', 'emotions', 'emperor', 'empowerment', 'emptiness', 'empty', 'en', 'enchanting', 'end', 'ending', 'energetic', 'engaging', 'english', 'enjoyable', 'enjoyed', 'enjoyment', 'enough', 'entertained', 'entertaining', 'entire', 'episode', 'errors', 'especially', 'essence', 'establish', 'estate', 'estevez', 'etc', 'european', 'even', 'events', 'ever', 'every', 'everyone', 'everything', 'evil', 'evinced', 'evokes', 'exactly', 'example', 'excellent', 'excellently', 'except', 'exceptional', 'excruciatingly', 'executed', 'expect', 'experience', 'experiences', 'explain', 'explains', 'exploit', 'explosion', 'exquisite', 'exteriors', 'extraneous', 'eye', 'eyes', 'face', 'faces', 'facial', 'fact', 'factory', 'fails', 'faithful', 'fall', 'falling', 'falsely', 'fame', 'famed', 'family', 'famous', 'fan', 'fans', 'fantastic', 'far', 'fascination', 'fast', 'fat', 'father', 'faultless', 'faux', 'favorite', 'fear', 'feature', 'features', 'feel', 'feeling', 'feelings', 'feisty', 'felt', 'female', 'females', 'fest', 'fi', 'film', 'films', 'final', 'finally', 'financial', 'find', 'fine', 'finished', 'first', 'fish', 'fishnet', 'fisted', 'five', 'flakes', 'flaming', 'flat', 'flaw', 'fleshed', 'flick', 'flicks', 'flying', 'focus', 'fodder', 'follow', 'following', 'follows', 'footage', 'football', 'force', 'forces', 'foreign', 'forgetting', 'forgotten', 'form', 'format', 'former', 'fort', 'forwarded', 'found', 'four', 'fox', 'free', 'freshness', 'friends', 'frightening', 'frost', 'fulci', 'fumbling', 'fun', 'function', 'funniest', 'funny', 'future', 'fx', 'gabriel', 'gain', 'galley', 'game', 'games', 'garage', 'garbage', 'gas', 'gaudi', 'gave', 'gay', 'geek', 'gem', 'general', 'generally', 'generates', 'genius', 'genre', 'genuine', 'george', 'gerardo', 'get', 'gets', 'giallo', 'gibberish', 'giovanni', 'girl', 'girlfriend', 'give', 'given', 'gives', 'giving', 'glad', 'glance', 'glasses', 'go', 'god', 'going', 'gone', 'gonna', 'good', 'goremeister', 'got', 'goth', 'grace', 'grade', 'granted', 'grasp', 'great', 'greatest', 'greenstreet', 'grimes', 'ground', 'guess', 'guy', 'guys', 'hair', 'half', 'halfway', 'ham', 'hand', 'handles', 'hands', 'hankies', 'happen', 'happened', 'harris', 'hate', 'hated', 'hay', 'hbo', 'head', 'hear', 'heard', 'heart', 'hearts', 'heartwarming', 'heaven', 'heist', 'hell', 'hellish', 'helps', 'hero', 'heroine', 'hes', 'highly', 'hilarious', 'hill', 'hilt', 'history', 'hitchcock', 'holding', 'holes', 'hollander', 'hollow', 'hollywood', 'hope', 'hopefully', 'horrendous', 'horrendously', 'horrible', 'horrified', 'horror', 'hour', 'house', 'houses', 'howdy', 'howell', 'however', 'huge', 'hugo', 'human', 'humorous', 'humour', 'hurt', 'huston', 'hypocrisy', 'idea', 'idealogical', 'identifies', 'identify', 'idiot', 'idiotic', 'im', 'imaginative', 'imagine', 'imdb', 'imitation', 'imperial', 'implausible', 'impossible', 'impressed', 'impression', 'impressive', 'including', 'incredible', 'incredibly', 'indeed', 'indescribably', 'indication', 'individual', 'indoor', 'indulgent', 'inexperience', 'inexplicable', 'insomniacs', 'inspiring', 'instant', 'instead', 'instruments', 'insult', 'intangibles', 'intelligence', 'intelligent', 'intensity', 'interacting', 'interest', 'interested', 'interesting', 'interplay', 'interpretations', 'intoning', 'involved', 'iq', 'ireland', 'irons', 'ironside', 'ishioka', 'issues', 'italian', 'ive', 'jaclyn', 'james', 'jamie', 'japanese', 'jason', 'jay', 'jennifer', 'jessica', 'jessice', 'jim', 'jimmy', 'job', 'joe', 'john', 'joins', 'joke', 'jokes', 'joy', 'joyce', 'judging', 'judith', 'judo', 'june', 'junkyard', 'jutland', 'kanaly', 'keep', 'keeps', 'keith', 'kevin', 'kidnapped', 'kids', 'killings', 'kind', 'kinda', 'knew', 'knocked', 'know', 'known', 'knows', 'kris', 'kristoffersen', 'kudos', 'la', 'labute', 'lacks', 'lame', 'lange', 'largely', 'laselva', 'last', 'lasting', 'late', 'latifa', 'latin', 'latter', 'laughable', 'laughed', 'laughs', 'layers', 'lazy', 'lead', 'leap', 'least', 'leave', 'leaves', 'leaving', 'left', 'length', 'leni', 'lesser', 'let', 'lets', 'letting', 'level', 'lid', 'lieutenant', 'life', 'lifetime', 'light', 'like', 'liked', 'likes', 'lilt', 'linda', 'line', 'lines', 'lion', 'list', 'little', 'living', 'loads', 'location', 'loewenhielm', 'long', 'look', 'looked', 'looks', 'lord', 'los', 'losing', 'lost', 'lot', 'lots', 'love', 'loved', 'lovely', 'low', 'lower', 'lucio', 'lucy', 'lugosi', 'macbeth', 'machine', 'mad', 'made', 'main', 'mainly', 'major', 'make', 'maker', 'makes', 'making', 'males', 'man', 'manna', 'mansonites', 'many', 'marbles', 'mark', 'marred', 'martin', 'master', 'masterpieces', 'mature', 'may', 'maybe', 'meaning', 'meanings', 'meant', 'mediocre', 'meld', 'melodrama', 'member', 'memorable', 'menace', 'merit', 'mesmerising', 'mess', 'messages', 'michael', 'mickey', 'middle', 'mighty', 'mind', 'mini', 'minute', 'minutes', 'mirrormask', 'miserable', 'miserably', 'mishima', 'mistakes', 'miyazaki', 'modern', 'modest', 'mollusk', 'moment', 'moments', 'money', 'monica', 'monolog', 'moral', 'mostly', 'mother', 'motion', 'motivations', 'mouse', 'move', 'moved', 'movie', 'movies', 'moving', 'much', 'muppets', 'murder', 'murdered', 'music', 'must', 'narrative', 'nasty', 'nationalities', 'natural', 'nearly', 'need', 'needlessly', 'negative', 'neil', 'nervous', 'network', 'never', 'nevertheless', 'new', 'next', 'nice', 'night', 'no', 'noble', 'nobody', 'noir', 'nonsense', 'normally', 'northern', 'nostalgia', 'not', 'notable', 'notch', 'note', 'noteworthy', 'nothing', 'novella', 'numbers', 'nurse', 'nut', 'nuts', 'obliged', 'obsessed', 'occasionally', 'odd', 'offend', 'offer', 'oh', 'old', 'olde', 'one', 'open', 'opened', 'original', 'originality', 'origins', 'ortolani', 'oscar', 'others', 'otherwise', 'outlets', 'outside', 'overacting', 'overall', 'overdue', 'overly', 'overwrought', 'owed', 'paced', 'pacing', 'paid', 'painful', 'painfully', 'paint', 'pair', 'parker', 'part', 'partaking', 'particular', 'particularly', 'parts', 'passed', 'passion', 'past', 'patent', 'pathetic', 'paul', 'peculiarity', 'people', 'perfectly', 'performance', 'performances', 'perhaps', 'period', 'perplexing', 'peter', 'phantasm', 'philippa', 'photograph', 'photography', 'phrase', 'physical', 'picture', 'piece', 'pile', 'pitch', 'pixar', 'place', 'plain', 'plane', 'plants', 'play', 'played', 'player', 'players', 'playing', 'plays', 'pleased', 'pleaser', 'plenty', 'plot', 'plus', 'pm', 'poetry', 'point', 'pointless', 'poised', 'poler', 'politically', 'politics', 'poor', 'poorly', 'popular', 'portrayal', 'portrayed', 'portraying', 'positive', 'possible', 'possibly', 'post', 'potted', 'powerhouse', 'precisely', 'predictable', 'predictably', 'prelude', 'premise', 'pretentious', 'pretty', 'previous', 'probably', 'problem', 'problems', 'proceedings', 'process', 'produced', 'producers', 'production', 'professionals', 'proudly', 'pseudo', 'psychological', 'pull', 'puppet', 'puppets', 'pure', 'put', 'putting', 'question', 'questioning', 'quick', 'quiet', 'quite', 'race', 'racial', 'racism', 'radiant', 'random', 'range', 'ranks', 'rare', 'rate', 'rated', 'rather', 'rating', 'ratings', 'reactions', 'readers', 'ready', 'real', 'realistic', 'reality', 'realized', 'really', 'reason', 'received', 'recent', 'recently', 'recommend', 'recommended', 'reconciliation', 'recurring', 'redeemed', 'redeeming', 'references', 'refreshing', 'relations', 'relationships', 'relaxing', 'release', 'released', 'relying', 'remaining', 'remake', 'remarkable', 'remember', 'reminded', 'remotely', 'rendering', 'rent', 'repair', 'repeated', 'repeats', 'reporter', 'represents', 'respecting', 'rest', 'result', 'return', 'revenge', 'reverse', 'review', 'reviewer', 'rickman', 'right', 'riot', 'rips', 'riz', 'road', 'robert', 'rochon', 'rocked', 'role', 'roles', 'rolls', 'romantic', 'roosevelt', 'rough', 'round', 'rpg', 'rpger', 'rubin', 'run', 'running', 'ruthless', 'ryan', 'ryans', 'sack', 'sad', 'said', 'salesman', 'sample', 'sandra', 'sarcophage', 'satanic', 'savalas', 'savant', 'savor', 'saw', 'say', 'says', 'scale', 'scamp', 'scare', 'scared', 'scary', 'scene', 'scenery', 'scenes', 'schizophrenic', 'school', 'schrader', 'sci', 'score', 'scot', 'screen', 'screenplay', 'screenwriter', 'script', 'scripted', 'scripting', 'scripts', 'sculpture', 'sea', 'seamless', 'seamlessly', 'sean', 'season', 'second', 'see', 'seeing', 'seemed', 'seems', 'seen', 'self', 'sells', 'semi', 'seperate', 'sequel', 'series', 'serious', 'seriously', 'set', 'sets', 'setting', 'several', 'sex', 'shakespear', 'share', 'sharing', 'sharply', 'shed', 'sheer', 'shelf', 'shenanigans', 'shocking', 'shooting', 'short', 'shortlist', 'shot', 'shots', 'show', 'shows', 'sibling', 'sidelined', 'silent', 'silly', 'simply', 'since', 'sincere', 'sing', 'singing', 'single', 'sinister', 'sinking', 'sister', 'sisters', 'situation', 'sleep', 'slightest', 'slightly', 'sloppy', 'slow', 'small', 'smells', 'smith', 'snider', 'social', 'solid', 'someone', 'something', 'sometimes', 'son', 'song', 'songs', 'sophisticated', 'sort', 'sound', 'sounds', 'soundtrack', 'south', 'southern', 'spacey', 'speak', 'special', 'spend', 'spent', 'sphere', 'spiffy', 'splendid', 'spoil', 'spoiled', 'spoiler', 'spoilers', 'spy', 'squibs', 'stable', 'stand', 'standout', 'star', 'starlet', 'starring', 'stars', 'started', 'starts', 'stayed', 'steele', 'step', 'stereotypes', 'steve', 'stewart', 'stick', 'still', 'stinker', 'stinks', 'stockings', 'stoic', 'store', 'stories', 'story', 'storyline', 'stowe', 'strange', 'stranger', 'straw', 'street', 'string', 'strong', 'student', 'studio', 'stunning', 'stupid', 'stupidity', 'style', 'sub', 'subject', 'subjects', 'subtle', 'subversive', 'success', 'suck', 'sucked', 'sucks', 'suggest', 'sum', 'super', 'superb', 'superbly', 'supernatural', 'supposed', 'supposedly', 'sure', 'surely', 'surprisingly', 'surrounding', 'suspense', 'sweet', 'sydney', 'sympathetic', 'syrupy', 'taelons', 'take', 'taken', 'takes', 'taking', 'tale', 'talk', 'tanks', 'taxidermists', 'team', 'tears', 'technically', 'teddy', 'tedium', 'teen', 'telephone', 'tell', 'telly', 'temperaments', 'ten', 'tension', 'terms', 'terrible', 'terrific', 'theater', 'theme', 'thick', 'thing', 'things', 'think', 'thinking', 'thoroughly', 'though', 'thought', 'thoughts', 'thousand', 'thread', 'thriller', 'thrillers', 'throughout', 'throwback', 'thrown', 'thumper', 'thunderbirds', 'tickets', 'time', 'timely', 'times', 'tired', 'today', 'together', 'told', 'tolerable', 'tom', 'tomorrow', 'tongue', 'tons', 'top', 'torture', 'totally', 'touch', 'touching', 'tough', 'towards', 'towers', 'tract', 'traditional', 'trap', 'trash', 'tries', 'trinity', 'trip', 'trouble', 'truck', 'true', 'truly', 'trumbull', 'trumpeter', 'truth', 'try', 'trying', 'trysts', 'tsunami', 'turkey', 'turn', 'turned', 'tv', 'twirling', 'twist', 'two', 'type', 'ultra', 'unaccompanied', 'unbelievable', 'unconditional', 'unconvincing', 'underacting', 'underappreciated', 'underbite', 'underlying', 'underneath', 'understand', 'understanding', 'understated', 'understatement', 'underwater', 'unethical', 'unfolds', 'unfortunate', 'unfortunately', 'unfunny', 'union', 'unique', 'uniqueness', 'unmatched', 'unmitigated', 'unoriginal', 'unpredictability', 'unpredictable', 'unrealistic', 'unsatisfactory', 'uplifting', 'upper', 'uptight', 'us', 'use', 'used', 'user', 'uses', 'using', 'usual', 'utter', 'utterly', 'values', 'vandiver', 'vehicles', 'verbal', 'vessel', 'veteran', 'video', 'view', 'viewer', 'viewing', 'views', 'villain', 'villains', 'violence', 'visual', 'vivid', 'vocal', 'volatile', 'volcano', 'vomit', 'walked', 'wall', 'want', 'wanting', 'war', 'warmth', 'washing', 'waste', 'wasted', 'waster', 'watch', 'watchable', 'watched', 'watching', 'watkins', 'watson', 'way', 'wb', 'weak', 'weaker', 'weaving', 'wedding', 'weird', 'well', 'went', 'whatsoever', 'whether', 'whiny', 'white', 'whole', 'wholesome', 'wife', 'wilkinson', 'wily', 'win', 'wind', 'wish', 'within', 'without', 'women', 'wondered', 'wonderful', 'woo', 'word', 'words', 'work', 'working', 'works', 'world', 'worse', 'worst', 'worth', 'worthless', 'worthwhile', 'worthy', 'would', 'woven', 'wow', 'write', 'writer', 'writing', 'written', 'wrong', 'yardley', 'yeah', 'year', 'years', 'yelps', 'yet', 'young', 'younger', 'youtube', 'yun', 'zillion', 'zombie', 'zombiez']\n",
      "  (0, 3)\t1\n",
      "  (0, 4)\t1\n",
      "  (0, 5)\t1\n",
      "  (1, 350)\t1\n",
      "  (1, 1063)\t1\n",
      "  (1, 1218)\t1\n",
      "  (2, 138)\t1\n",
      "  (2, 239)\t1\n",
      "  (2, 603)\t1\n",
      "  (2, 740)\t1\n",
      "  (2, 779)\t1\n",
      "  (2, 1367)\t1\n",
      "  (2, 1532)\t1\n",
      "  (3, 111)\t1\n",
      "  (3, 268)\t1\n",
      "  (3, 657)\t1\n",
      "  (3, 766)\t1\n",
      "  (3, 853)\t1\n",
      "  (3, 912)\t1\n",
      "  (3, 913)\t1\n",
      "  (3, 1109)\t1\n",
      "  (3, 1339)\t1\n",
      "  (3, 1375)\t1\n",
      "  (3, 1541)\t1\n",
      "  (4, 13)\t1\n",
      "  :\t:\n",
      "  (330, 410)\t1\n",
      "  (330, 720)\t1\n",
      "  (330, 863)\t2\n",
      "  (330, 1184)\t1\n",
      "  (330, 1331)\t1\n",
      "  (330, 1520)\t1\n",
      "  (330, 1560)\t1\n",
      "  (331, 85)\t1\n",
      "  (331, 912)\t1\n",
      "  (332, 415)\t1\n",
      "  (332, 428)\t1\n",
      "  (332, 812)\t2\n",
      "  (332, 912)\t1\n",
      "  (332, 913)\t1\n",
      "  (332, 946)\t1\n",
      "  (332, 966)\t1\n",
      "  (332, 1318)\t1\n",
      "  (332, 1558)\t1\n",
      "  (333, 112)\t1\n",
      "  (333, 467)\t1\n",
      "  (333, 722)\t1\n",
      "  (333, 818)\t1\n",
      "  (333, 843)\t1\n",
      "  (333, 960)\t1\n",
      "  (333, 1425)\t1\n",
      "(334, 1595) (334,)\n",
      "(165, 1595) (165,)\n",
      "(247, 1595) (247,)\n"
     ]
    }
   ],
   "source": [
    "from sklearn.feature_extraction.text import CountVectorizer\n",
    "vectorizer = CountVectorizer()\n",
    "vectorizer.fit(X_train)\n",
    "print(vectorizer.vocabulary_)\n",
    "print(vectorizer.get_feature_names())\n",
    "\n",
    "X_train_bow = vectorizer.transform(X_train)\n",
    "X_cv_bow = vectorizer.transform(X_cv)\n",
    "X_test_bow = vectorizer.transform(X_test)\n",
    "print(X_train_bow)\n",
    "print(X_train_bow.shape,y_train.shape)\n",
    "print(X_cv_bow.shape,y_cv.shape)\n",
    "print(X_test_bow.shape,y_test.shape)"
   ]
  },
  {
   "cell_type": "code",
   "execution_count": 21,
   "metadata": {},
   "outputs": [],
   "source": [
    "sentance = [\"abc def pqr\",\n",
    "            \"abc pqr cdf jkl cdf\"]"
   ]
  },
  {
   "cell_type": "code",
   "execution_count": 32,
   "metadata": {},
   "outputs": [
    {
     "name": "stdout",
     "output_type": "stream",
     "text": [
      "{'abc': 0, 'def': 2, 'pqr': 4, 'cdf': 1, 'jkl': 3}\n",
      "==================================================\n",
      "['abc', 'cdf', 'def', 'jkl', 'pqr']\n",
      "[[1 0 1 0 1]\n",
      " [1 2 0 1 1]]\n"
     ]
    }
   ],
   "source": [
    "from sklearn.feature_extraction.text import CountVectorizer\n",
    "vectorizer = CountVectorizer()\n",
    "vectorizer.fit(sentance)\n",
    "print(vectorizer.vocabulary_)\n",
    "\n",
    "print(\"=\"*50)\n",
    "print(vectorizer.get_feature_names())\n",
    "print(vectorizer.transform(sentance).toarray())"
   ]
  },
  {
   "cell_type": "code",
   "execution_count": 53,
   "metadata": {},
   "outputs": [
    {
     "name": "stdout",
     "output_type": "stream",
     "text": [
      "[1.0, 0.8336583252085364, 0.8232405300978587, 0.7664752825623803, 0.7471563210919726, 0.7555519445347201, 0.7319539233741378, 0.7377676669194382]\n",
      "[0.5600649350649352, 0.5441263282172374, 0.613857733175915, 0.6066263282172373, 0.6461776859504131, 0.6134149940968122, 0.632452774498229, 0.6011658795749705]\n"
     ]
    },
    {
     "data": {
      "image/png": "[encoded data removed]",
      "text/plain": [
       "<Figure size 432x288 with 1 Axes>"
      ]
     },
     "metadata": {},
     "output_type": "display_data"
    }
   ],
   "source": [
    "from sklearn.neighbors import KNeighborsClassifier\n",
    "from sklearn.metrics import roc_auc_score\n",
    "import matplotlib.pyplot as plt\n",
    "\n",
    "\n",
    "train_auc = []\n",
    "cv_auc = []\n",
    "K = [1,5,10,15,21,31,41,51]\n",
    "for i in k:\n",
    "    neigh = KNeighborsClassifier(n_neighbors=i)\n",
    "    neigh.fit(X_train_bow,y_train)\n",
    "    \n",
    "    y_train_pred =  neigh.predict_proba(X_train_bow)[:,1]\n",
    "    y_cv_pred =  neigh.predict_proba(X_cv_bow)[:,1]\n",
    "    train_auc.append(roc_auc_score(y_train,y_train_pred))\n",
    "    cv_auc.append(roc_auc_score(y_cv,y_cv_pred))\n",
    "#print(neigh.fit(X_train_bow,y_train))\n",
    "#print(y_train_pred.shape)\n",
    "\n",
    "print(train_auc)\n",
    "print(cv_auc)\n",
    "\n",
    "plt.plot(K, train_auc, label='Train AUC')\n",
    "plt.plot(K, cv_auc, label='CV AUC')\n",
    "plt.legend()\n",
    "plt.xlabel(\"K: hyperparameter\")\n",
    "plt.ylabel(\"AUC\")\n",
    "plt.title(\"ERROR PLOTS\")\n",
    "plt.show()"
   ]
  },
  {
   "cell_type": "code",
   "execution_count": 29,
   "metadata": {},
   "outputs": [
    {
     "ename": "TypeError",
     "evalue": "range indices must be integers or slices, not tuple",
     "output_type": "error",
     "traceback": [
      "\u001b[1;31m---------------------------------------------------------------------------\u001b[0m",
      "\u001b[1;31mTypeError\u001b[0m                                 Traceback (most recent call last)",
      "\u001b[1;32m<ipython-input-29-3cfaeb2f3e03>\u001b[0m in \u001b[0;36m<module>\u001b[1;34m()\u001b[0m\n\u001b[0;32m      1\u001b[0m \u001b[0mL\u001b[0m \u001b[1;33m=\u001b[0m \u001b[0mrange\u001b[0m\u001b[1;33m(\u001b[0m\u001b[1;36m10\u001b[0m\u001b[1;33m)\u001b[0m\u001b[1;33m\u001b[0m\u001b[0m\n\u001b[1;32m----> 2\u001b[1;33m \u001b[0mL\u001b[0m\u001b[1;33m[\u001b[0m\u001b[1;33m:\u001b[0m\u001b[1;33m,\u001b[0m\u001b[1;36m1\u001b[0m\u001b[1;33m]\u001b[0m\u001b[1;33m\u001b[0m\u001b[0m\n\u001b[0m",
      "\u001b[1;31mTypeError\u001b[0m: range indices must be integers or slices, not tuple"
     ]
    }
   ],
   "source": [
    " L = range(10)\n",
    "L[:,1]"
   ]
  },
  {
   "cell_type": "code",
   "execution_count": null,
   "metadata": {},
   "outputs": [],
   "source": []
  }
 ],
 "metadata": {
  "kernelspec": {
   "display_name": "Python 3",
   "language": "python",
   "name": "python3"
  },
  "language_info": {
   "codemirror_mode": {
    "name": "ipython",
    "version": 3
   },
   "file_extension": ".py",
   "mimetype": "text/x-python",
   "name": "python",
   "nbconvert_exporter": "python",
   "pygments_lexer": "ipython3",
   "version": "3.6.5"
  }
 },
 "nbformat": 4,
 "nbformat_minor": 2
}
